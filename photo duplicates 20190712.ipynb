{
 "cells": [
  {
   "cell_type": "code",
   "execution_count": null,
   "metadata": {},
   "outputs": [],
   "source": [
    "import pandas as pd\n",
    "import os\n",
    "\n",
    "\n",
    "fname = 'O:\\!src_ACDSee\\duplicate.txt'\n",
    "\n",
    "content = []\n",
    "i = 0\n",
    "\n",
    "cols = ['1','2','3','4','5','6']\n",
    "\n",
    "df = pd.DataFrame(columns=cols)\n",
    "\n",
    "simple_list = [cols]\n",
    "\n",
    "with open(fname) as fp:\n",
    "    content = fp.readlines()\n",
    "    \n",
    "    for line in content:\n",
    "#         print(line[0:1] == '-')\n",
    "\n",
    "        i += 1\n",
    "        if i > 1000000:\n",
    "            break\n",
    "         \n",
    "\n",
    "#         if ~any(substring in line[0:1] for substring in ['-','\\n']) :\n",
    "        if line[0:1] != '-':\n",
    "            simple_list.append(line.rstrip('\\n').split('\\t'))\n",
    "\n",
    "df = pd.DataFrame(simple_list, columns=cols)[1:]   \n",
    "            \n",
    "df.set_index(['1','3','4','2']).unstack().swaplevel(0,1,1).sort_index(1)\n",
    "            \n",
    "# you may also want to remove whitespace characters like `\\n` at the end of each line\n",
    "\n",
    "print (df.count())\n",
    "df"
   ]
  }
 ],
 "metadata": {
  "kernelspec": {
   "display_name": "Python 3",
   "language": "python",
   "name": "python3"
  },
  "language_info": {
   "codemirror_mode": {
    "name": "ipython",
    "version": 3
   },
   "file_extension": ".py",
   "mimetype": "text/x-python",
   "name": "python",
   "nbconvert_exporter": "python",
   "pygments_lexer": "ipython3",
   "version": "3.7.3"
  }
 },
 "nbformat": 4,
 "nbformat_minor": 2
}
